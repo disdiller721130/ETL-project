{
 "cells": [
  {
   "cell_type": "code",
   "execution_count": 38,
   "metadata": {},
   "outputs": [],
   "source": [
    "import pandas as pd\n",
    "from sqlalchemy import create_engine, Column, Integer, String, Float\n",
    "from sqlalchemy.ext.declarative import declarative_base\n",
    "Base = declarative_base()"
   ]
  },
  {
   "cell_type": "code",
   "execution_count": 39,
   "metadata": {},
   "outputs": [],
   "source": [
    "#My Table:\n",
    "class Player(Base):\n",
    "    __tablename__ = 'player'\n",
    "    id = Column(Integer, primary_key=True)\n",
    "    player_name = Column(String)\n",
    "    year = Column(Float)\n",
    "    team = Column(String)\n",
    "    ft = Column(Float)\n",
    "    fg = Column(Float)\n",
    "    assist = Column(Float)\n",
    "    block = Column(Float)\n",
    "    point = Column(Float)\n",
    "\n",
    "# Table for you to load your summary. You can define the items you want.\n",
    "class Census(Base):\n",
    "    __tablename__ = 'census'\n",
    "    id = Column(Integer, primary_key=True)\n"
   ]
  },
  {
   "cell_type": "code",
   "execution_count": 40,
   "metadata": {},
   "outputs": [
    {
     "data": {
      "text/plain": [
       "immutabledict({'player': Table('player', MetaData(bind=None), Column('id', Integer(), table=<player>, primary_key=True, nullable=False), Column('player_name', String(), table=<player>), Column('year', Float(), table=<player>), Column('team', String(), table=<player>), Column('ft', Float(), table=<player>), Column('fg', Float(), table=<player>), Column('assist', Float(), table=<player>), Column('block', Float(), table=<player>), Column('point', Float(), table=<player>), schema=None), 'census': Table('census', MetaData(bind=None), Column('id', Integer(), table=<census>, primary_key=True, nullable=False), schema=None)})"
      ]
     },
     "execution_count": 40,
     "metadata": {},
     "output_type": "execute_result"
    }
   ],
   "source": [
    "Base.metadata.tables"
   ]
  },
  {
   "cell_type": "code",
   "execution_count": 41,
   "metadata": {},
   "outputs": [],
   "source": [
    "engine = create_engine('sqlite:///ETL_DB.sqlite')"
   ]
  },
  {
   "cell_type": "code",
   "execution_count": 42,
   "metadata": {},
   "outputs": [],
   "source": [
    "Base.metadata.create_all(engine)"
   ]
  },
  {
   "cell_type": "code",
   "execution_count": 43,
   "metadata": {},
   "outputs": [],
   "source": [
    "from sqlalchemy.orm import Session\n",
    "session = Session(engine)"
   ]
  },
  {
   "cell_type": "code",
   "execution_count": 44,
   "metadata": {},
   "outputs": [],
   "source": [
    "csv_file = \"Seasons_Stats.csv\"\n",
    "player_data_df = pd.read_csv(csv_file)\n",
    "kb_overall_data=player_data_df.loc[player_data_df[\"Player\"]==\"Kobe Bryant\",:]"
   ]
  },
  {
   "cell_type": "code",
   "execution_count": 45,
   "metadata": {},
   "outputs": [],
   "source": [
    "kb_specific=kb_overall_data[[\"Player\",\"Year\",\"Tm\",\"FT%\",\"FG%\",\"AST\",\"BLK\",\"PTS\"]]\n",
    "kb_specific=kb_specific.reset_index(drop=True)"
   ]
  },
  {
   "cell_type": "code",
   "execution_count": 46,
   "metadata": {},
   "outputs": [
    {
     "data": {
      "text/html": [
       "<div>\n",
       "<style scoped>\n",
       "    .dataframe tbody tr th:only-of-type {\n",
       "        vertical-align: middle;\n",
       "    }\n",
       "\n",
       "    .dataframe tbody tr th {\n",
       "        vertical-align: top;\n",
       "    }\n",
       "\n",
       "    .dataframe thead th {\n",
       "        text-align: right;\n",
       "    }\n",
       "</style>\n",
       "<table border=\"1\" class=\"dataframe\">\n",
       "  <thead>\n",
       "    <tr style=\"text-align: right;\">\n",
       "      <th></th>\n",
       "      <th>player_name</th>\n",
       "      <th>year</th>\n",
       "      <th>team</th>\n",
       "      <th>ft</th>\n",
       "      <th>fg</th>\n",
       "      <th>assist</th>\n",
       "      <th>block</th>\n",
       "      <th>point</th>\n",
       "    </tr>\n",
       "  </thead>\n",
       "  <tbody>\n",
       "    <tr>\n",
       "      <th>0</th>\n",
       "      <td>Kobe Bryant</td>\n",
       "      <td>1997.0</td>\n",
       "      <td>LAL</td>\n",
       "      <td>0.819</td>\n",
       "      <td>0.417</td>\n",
       "      <td>91.0</td>\n",
       "      <td>23.0</td>\n",
       "      <td>539.0</td>\n",
       "    </tr>\n",
       "    <tr>\n",
       "      <th>1</th>\n",
       "      <td>Kobe Bryant</td>\n",
       "      <td>1998.0</td>\n",
       "      <td>LAL</td>\n",
       "      <td>0.794</td>\n",
       "      <td>0.428</td>\n",
       "      <td>199.0</td>\n",
       "      <td>40.0</td>\n",
       "      <td>1220.0</td>\n",
       "    </tr>\n",
       "    <tr>\n",
       "      <th>2</th>\n",
       "      <td>Kobe Bryant</td>\n",
       "      <td>1999.0</td>\n",
       "      <td>LAL</td>\n",
       "      <td>0.839</td>\n",
       "      <td>0.465</td>\n",
       "      <td>190.0</td>\n",
       "      <td>50.0</td>\n",
       "      <td>996.0</td>\n",
       "    </tr>\n",
       "    <tr>\n",
       "      <th>3</th>\n",
       "      <td>Kobe Bryant</td>\n",
       "      <td>2000.0</td>\n",
       "      <td>LAL</td>\n",
       "      <td>0.821</td>\n",
       "      <td>0.468</td>\n",
       "      <td>323.0</td>\n",
       "      <td>62.0</td>\n",
       "      <td>1485.0</td>\n",
       "    </tr>\n",
       "    <tr>\n",
       "      <th>4</th>\n",
       "      <td>Kobe Bryant</td>\n",
       "      <td>2001.0</td>\n",
       "      <td>LAL</td>\n",
       "      <td>0.853</td>\n",
       "      <td>0.464</td>\n",
       "      <td>338.0</td>\n",
       "      <td>43.0</td>\n",
       "      <td>1938.0</td>\n",
       "    </tr>\n",
       "  </tbody>\n",
       "</table>\n",
       "</div>"
      ],
      "text/plain": [
       "   player_name    year team     ft     fg  assist  block   point\n",
       "0  Kobe Bryant  1997.0  LAL  0.819  0.417    91.0   23.0   539.0\n",
       "1  Kobe Bryant  1998.0  LAL  0.794  0.428   199.0   40.0  1220.0\n",
       "2  Kobe Bryant  1999.0  LAL  0.839  0.465   190.0   50.0   996.0\n",
       "3  Kobe Bryant  2000.0  LAL  0.821  0.468   323.0   62.0  1485.0\n",
       "4  Kobe Bryant  2001.0  LAL  0.853  0.464   338.0   43.0  1938.0"
      ]
     },
     "execution_count": 46,
     "metadata": {},
     "output_type": "execute_result"
    }
   ],
   "source": [
    "kb_specific=kb_specific.rename(columns={\"Player\":\"player_name\",\"Year\":\"year\",\"Tm\":\"team\",\n",
    "                                        \"FT%\":\"ft\",\"FG%\":\"fg\",\"AST\":\"assist\",\"BLK\":\"block\",\"PTS\":\"point\"})\n",
    "kb_specific.head()"
   ]
  },
  {
   "cell_type": "code",
   "execution_count": 47,
   "metadata": {},
   "outputs": [
    {
     "data": {
      "text/plain": [
       "['census', 'player']"
      ]
     },
     "execution_count": 47,
     "metadata": {},
     "output_type": "execute_result"
    }
   ],
   "source": [
    "engine.table_names()"
   ]
  },
  {
   "cell_type": "code",
   "execution_count": 48,
   "metadata": {},
   "outputs": [],
   "source": [
    "kb_specific.to_sql(name='player', con=engine, if_exists='append', index=False)"
   ]
  },
  {
   "cell_type": "code",
   "execution_count": 49,
   "metadata": {},
   "outputs": [
    {
     "data": {
      "text/html": [
       "<div>\n",
       "<style scoped>\n",
       "    .dataframe tbody tr th:only-of-type {\n",
       "        vertical-align: middle;\n",
       "    }\n",
       "\n",
       "    .dataframe tbody tr th {\n",
       "        vertical-align: top;\n",
       "    }\n",
       "\n",
       "    .dataframe thead th {\n",
       "        text-align: right;\n",
       "    }\n",
       "</style>\n",
       "<table border=\"1\" class=\"dataframe\">\n",
       "  <thead>\n",
       "    <tr style=\"text-align: right;\">\n",
       "      <th></th>\n",
       "      <th>id</th>\n",
       "      <th>player_name</th>\n",
       "      <th>year</th>\n",
       "      <th>team</th>\n",
       "      <th>ft</th>\n",
       "      <th>fg</th>\n",
       "      <th>assist</th>\n",
       "      <th>block</th>\n",
       "      <th>point</th>\n",
       "    </tr>\n",
       "  </thead>\n",
       "  <tbody>\n",
       "    <tr>\n",
       "      <th>0</th>\n",
       "      <td>1</td>\n",
       "      <td>Kobe Bryant</td>\n",
       "      <td>1997.0</td>\n",
       "      <td>LAL</td>\n",
       "      <td>0.819</td>\n",
       "      <td>0.417</td>\n",
       "      <td>91.0</td>\n",
       "      <td>23.0</td>\n",
       "      <td>539.0</td>\n",
       "    </tr>\n",
       "    <tr>\n",
       "      <th>1</th>\n",
       "      <td>2</td>\n",
       "      <td>Kobe Bryant</td>\n",
       "      <td>1998.0</td>\n",
       "      <td>LAL</td>\n",
       "      <td>0.794</td>\n",
       "      <td>0.428</td>\n",
       "      <td>199.0</td>\n",
       "      <td>40.0</td>\n",
       "      <td>1220.0</td>\n",
       "    </tr>\n",
       "    <tr>\n",
       "      <th>2</th>\n",
       "      <td>3</td>\n",
       "      <td>Kobe Bryant</td>\n",
       "      <td>1999.0</td>\n",
       "      <td>LAL</td>\n",
       "      <td>0.839</td>\n",
       "      <td>0.465</td>\n",
       "      <td>190.0</td>\n",
       "      <td>50.0</td>\n",
       "      <td>996.0</td>\n",
       "    </tr>\n",
       "    <tr>\n",
       "      <th>3</th>\n",
       "      <td>4</td>\n",
       "      <td>Kobe Bryant</td>\n",
       "      <td>2000.0</td>\n",
       "      <td>LAL</td>\n",
       "      <td>0.821</td>\n",
       "      <td>0.468</td>\n",
       "      <td>323.0</td>\n",
       "      <td>62.0</td>\n",
       "      <td>1485.0</td>\n",
       "    </tr>\n",
       "    <tr>\n",
       "      <th>4</th>\n",
       "      <td>5</td>\n",
       "      <td>Kobe Bryant</td>\n",
       "      <td>2001.0</td>\n",
       "      <td>LAL</td>\n",
       "      <td>0.853</td>\n",
       "      <td>0.464</td>\n",
       "      <td>338.0</td>\n",
       "      <td>43.0</td>\n",
       "      <td>1938.0</td>\n",
       "    </tr>\n",
       "  </tbody>\n",
       "</table>\n",
       "</div>"
      ],
      "text/plain": [
       "   id  player_name    year team     ft     fg  assist  block   point\n",
       "0   1  Kobe Bryant  1997.0  LAL  0.819  0.417    91.0   23.0   539.0\n",
       "1   2  Kobe Bryant  1998.0  LAL  0.794  0.428   199.0   40.0  1220.0\n",
       "2   3  Kobe Bryant  1999.0  LAL  0.839  0.465   190.0   50.0   996.0\n",
       "3   4  Kobe Bryant  2000.0  LAL  0.821  0.468   323.0   62.0  1485.0\n",
       "4   5  Kobe Bryant  2001.0  LAL  0.853  0.464   338.0   43.0  1938.0"
      ]
     },
     "execution_count": 49,
     "metadata": {},
     "output_type": "execute_result"
    }
   ],
   "source": [
    "pd.read_sql_query('select * from player', con=engine).head()"
   ]
  },
  {
   "cell_type": "code",
   "execution_count": null,
   "metadata": {},
   "outputs": [],
   "source": []
  }
 ],
 "metadata": {
  "kernelspec": {
   "display_name": "Python 3",
   "language": "python",
   "name": "python3"
  },
  "language_info": {
   "codemirror_mode": {
    "name": "ipython",
    "version": 3
   },
   "file_extension": ".py",
   "mimetype": "text/x-python",
   "name": "python",
   "nbconvert_exporter": "python",
   "pygments_lexer": "ipython3",
   "version": "3.6.7"
  }
 },
 "nbformat": 4,
 "nbformat_minor": 2
}
